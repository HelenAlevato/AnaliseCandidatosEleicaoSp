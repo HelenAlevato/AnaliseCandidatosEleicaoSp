{
 "cells": [
  {
   "cell_type": "code",
   "execution_count": 134,
   "metadata": {},
   "outputs": [],
   "source": [
    "import pandas\n",
    "import matplotlib.pyplot as plt\n",
    "import numpy as np"
   ]
  },
  {
   "cell_type": "code",
   "execution_count": 2,
   "metadata": {},
   "outputs": [],
   "source": [
    "vereadores_sp = pandas.read_csv('consulta_cand_2020_SP.csv', encoding='iso-8859-1', delimiter=\";\")"
   ]
  },
  {
   "cell_type": "code",
   "execution_count": 223,
   "metadata": {},
   "outputs": [
    {
     "data": {
      "text/plain": [
       "31460"
      ]
     },
     "execution_count": 223,
     "metadata": {},
     "output_type": "execute_result"
    }
   ],
   "source": [
    "quantidadeDeMulheres = len(vereadores_sp.query('DS_GENERO == \"FEMININO\"').index)\n",
    "quantidadeDeMulheres"
   ]
  },
  {
   "cell_type": "code",
   "execution_count": 222,
   "metadata": {},
   "outputs": [
    {
     "data": {
      "text/plain": [
       "62307"
      ]
     },
     "execution_count": 222,
     "metadata": {},
     "output_type": "execute_result"
    }
   ],
   "source": [
    "quantidadeDeHomens = len(vereadores_sp.query('DS_GENERO == \"MASCULINO\"').index)\n",
    "quantidadeDeHomens"
   ]
  },
  {
   "cell_type": "code",
   "execution_count": 224,
   "metadata": {},
   "outputs": [
    {
     "data": {
      "text/plain": [
       "93767"
      ]
     },
     "execution_count": 224,
     "metadata": {},
     "output_type": "execute_result"
    }
   ],
   "source": [
    "total=quantidadeDeMulheres+quantidadeDeHomens\n",
    "total"
   ]
  },
  {
   "cell_type": "code",
   "execution_count": 225,
   "metadata": {},
   "outputs": [
    {
     "data": {
      "text/plain": [
       "33.55124937344695"
      ]
     },
     "execution_count": 225,
     "metadata": {},
     "output_type": "execute_result"
    }
   ],
   "source": [
    "porcM = quantidadeDeMulheres*100/total\n",
    "porcM"
   ]
  },
  {
   "cell_type": "code",
   "execution_count": 226,
   "metadata": {},
   "outputs": [
    {
     "data": {
      "text/plain": [
       "66.44875062655305"
      ]
     },
     "execution_count": 226,
     "metadata": {},
     "output_type": "execute_result"
    }
   ],
   "source": [
    "porcH = 100 - porcM\n",
    "porcH"
   ]
  },
  {
   "cell_type": "code",
   "execution_count": 227,
   "metadata": {},
   "outputs": [
    {
     "data": {
      "image/png": "[encoded data removed]",
      "text/plain": [
       "<Figure size 432x432 with 1 Axes>"
      ]
     },
     "metadata": {},
     "output_type": "display_data"
    }
   ],
   "source": [
    "generos = 'Feminino', 'Masculino'\n",
    "quantidade = [porcM, porcH]\n",
    "\n",
    "explode = (0.1, 0)\n",
    "figl, ax1 = plt.subplots(figsize=(6, 6))\n",
    "\n",
    "c = [ '#944186','#07EBD4' ]\n",
    "\n",
    "ax1.pie(quantidade, labels=generos,explode=explode, autopct='%1.1f%%',\n",
    "       shadow=True, startangle=90, colors=c)\n",
    "\n",
    "ax1.axis('equal')\n",
    "plt.show()\n"
   ]
  },
  {
   "cell_type": "markdown",
   "metadata": {},
   "source": [
    "- Aqui podemos observar, que na parte destacada do gráfico representa o percentual de mulheres que se cadidataram a vereadoras no ano de 2020, essa porcentagem está bem próxima da cota mínima que é 30%, observamos que a cota foi ultrapassada apenas em 3.6%."
   ]
  },
  {
   "cell_type": "code",
   "execution_count": 42,
   "metadata": {},
   "outputs": [
    {
     "data": {
      "text/plain": [
       "0        VEREADOR\n",
       "1        VEREADOR\n",
       "2        VEREADOR\n",
       "3        VEREADOR\n",
       "4        VEREADOR\n",
       "           ...   \n",
       "93762    VEREADOR\n",
       "93763    VEREADOR\n",
       "93764    VEREADOR\n",
       "93765    VEREADOR\n",
       "93766    VEREADOR\n",
       "Name: DS_CARGO, Length: 93767, dtype: object"
      ]
     },
     "execution_count": 42,
     "metadata": {},
     "output_type": "execute_result"
    }
   ],
   "source": [
    "vereadores_sp[\"DS_CARGO\"]"
   ]
  },
  {
   "cell_type": "code",
   "execution_count": 57,
   "metadata": {},
   "outputs": [
    {
     "data": {
      "text/plain": [
       "0                  SUPERIOR COMPLETO\n",
       "1              ENSINO MÉDIO COMPLETO\n",
       "2        ENSINO FUNDAMENTAL COMPLETO\n",
       "3              ENSINO MÉDIO COMPLETO\n",
       "4                  SUPERIOR COMPLETO\n",
       "                    ...             \n",
       "93762    ENSINO FUNDAMENTAL COMPLETO\n",
       "93763          ENSINO MÉDIO COMPLETO\n",
       "93764    ENSINO FUNDAMENTAL COMPLETO\n",
       "93765              SUPERIOR COMPLETO\n",
       "93766          ENSINO MÉDIO COMPLETO\n",
       "Name: DS_GRAU_INSTRUCAO, Length: 93767, dtype: object"
      ]
     },
     "execution_count": 57,
     "metadata": {},
     "output_type": "execute_result"
    }
   ],
   "source": [
    "vereadores_sp['DS_GRAU_INSTRUCAO']"
   ]
  },
  {
   "cell_type": "code",
   "execution_count": 68,
   "metadata": {},
   "outputs": [],
   "source": [
    "vereadores_homens = vereadores_sp.query('DS_GENERO == \"MASCULINO\"')\n",
    "vereadoras_mulheres = vereadores_sp.query('DS_GENERO == \"FEMININO\"')"
   ]
  },
  {
   "cell_type": "code",
   "execution_count": 230,
   "metadata": {},
   "outputs": [
    {
     "data": {
      "text/html": [
       "<div>\n",
       "<style scoped>\n",
       "    .dataframe tbody tr th:only-of-type {\n",
       "        vertical-align: middle;\n",
       "    }\n",
       "\n",
       "    .dataframe tbody tr th {\n",
       "        vertical-align: top;\n",
       "    }\n",
       "\n",
       "    .dataframe thead th {\n",
       "        text-align: right;\n",
       "    }\n",
       "</style>\n",
       "<table border=\"1\" class=\"dataframe\">\n",
       "  <thead>\n",
       "    <tr style=\"text-align: right;\">\n",
       "      <th></th>\n",
       "      <th>DT_GERACAO</th>\n",
       "      <th>HH_GERACAO</th>\n",
       "      <th>ANO_ELEICAO</th>\n",
       "      <th>CD_TIPO_ELEICAO</th>\n",
       "      <th>NM_TIPO_ELEICAO</th>\n",
       "      <th>NR_TURNO</th>\n",
       "      <th>CD_ELEICAO</th>\n",
       "      <th>DS_ELEICAO</th>\n",
       "      <th>DT_ELEICAO</th>\n",
       "      <th>TP_ABRANGENCIA</th>\n",
       "      <th>...</th>\n",
       "      <th>DS_SIT_TOT_TURNO</th>\n",
       "      <th>ST_REELEICAO</th>\n",
       "      <th>ST_DECLARAR_BENS</th>\n",
       "      <th>NR_PROTOCOLO_CANDIDATURA</th>\n",
       "      <th>NR_PROCESSO</th>\n",
       "      <th>CD_SITUACAO_CANDIDATO_PLEITO</th>\n",
       "      <th>DS_SITUACAO_CANDIDATO_PLEITO</th>\n",
       "      <th>CD_SITUACAO_CANDIDATO_URNA</th>\n",
       "      <th>DS_SITUACAO_CANDIDATO_URNA</th>\n",
       "      <th>ST_CANDIDATO_INSERIDO_URNA</th>\n",
       "    </tr>\n",
       "  </thead>\n",
       "  <tbody>\n",
       "    <tr>\n",
       "      <th>0</th>\n",
       "      <td>29/11/2020</td>\n",
       "      <td>09:22:42</td>\n",
       "      <td>2020</td>\n",
       "      <td>2</td>\n",
       "      <td>ELEIÇÃO ORDINÁRIA</td>\n",
       "      <td>1</td>\n",
       "      <td>426</td>\n",
       "      <td>Eleições Municipais 2020</td>\n",
       "      <td>15/11/2020</td>\n",
       "      <td>MUNICIPAL</td>\n",
       "      <td>...</td>\n",
       "      <td>SUPLENTE</td>\n",
       "      <td>N</td>\n",
       "      <td>S</td>\n",
       "      <td>-1</td>\n",
       "      <td>6005729320206260317</td>\n",
       "      <td>2</td>\n",
       "      <td>DEFERIDO</td>\n",
       "      <td>2</td>\n",
       "      <td>DEFERIDO</td>\n",
       "      <td>SIM</td>\n",
       "    </tr>\n",
       "    <tr>\n",
       "      <th>1</th>\n",
       "      <td>29/11/2020</td>\n",
       "      <td>09:22:42</td>\n",
       "      <td>2020</td>\n",
       "      <td>2</td>\n",
       "      <td>ELEIÇÃO ORDINÁRIA</td>\n",
       "      <td>1</td>\n",
       "      <td>426</td>\n",
       "      <td>Eleições Municipais 2020</td>\n",
       "      <td>15/11/2020</td>\n",
       "      <td>MUNICIPAL</td>\n",
       "      <td>...</td>\n",
       "      <td>SUPLENTE</td>\n",
       "      <td>N</td>\n",
       "      <td>S</td>\n",
       "      <td>-1</td>\n",
       "      <td>6003059420206260229</td>\n",
       "      <td>2</td>\n",
       "      <td>DEFERIDO</td>\n",
       "      <td>2</td>\n",
       "      <td>DEFERIDO</td>\n",
       "      <td>SIM</td>\n",
       "    </tr>\n",
       "    <tr>\n",
       "      <th>3</th>\n",
       "      <td>29/11/2020</td>\n",
       "      <td>09:22:42</td>\n",
       "      <td>2020</td>\n",
       "      <td>2</td>\n",
       "      <td>ELEIÇÃO ORDINÁRIA</td>\n",
       "      <td>1</td>\n",
       "      <td>426</td>\n",
       "      <td>Eleições Municipais 2020</td>\n",
       "      <td>15/11/2020</td>\n",
       "      <td>MUNICIPAL</td>\n",
       "      <td>...</td>\n",
       "      <td>NÃO ELEITO</td>\n",
       "      <td>N</td>\n",
       "      <td>S</td>\n",
       "      <td>-1</td>\n",
       "      <td>6002685720206260200</td>\n",
       "      <td>2</td>\n",
       "      <td>DEFERIDO</td>\n",
       "      <td>2</td>\n",
       "      <td>DEFERIDO</td>\n",
       "      <td>SIM</td>\n",
       "    </tr>\n",
       "    <tr>\n",
       "      <th>5</th>\n",
       "      <td>29/11/2020</td>\n",
       "      <td>09:22:42</td>\n",
       "      <td>2020</td>\n",
       "      <td>2</td>\n",
       "      <td>ELEIÇÃO ORDINÁRIA</td>\n",
       "      <td>1</td>\n",
       "      <td>426</td>\n",
       "      <td>Eleições Municipais 2020</td>\n",
       "      <td>15/11/2020</td>\n",
       "      <td>MUNICIPAL</td>\n",
       "      <td>...</td>\n",
       "      <td>NÃO ELEITO</td>\n",
       "      <td>N</td>\n",
       "      <td>S</td>\n",
       "      <td>-1</td>\n",
       "      <td>6000404620206260212</td>\n",
       "      <td>2</td>\n",
       "      <td>DEFERIDO</td>\n",
       "      <td>2</td>\n",
       "      <td>DEFERIDO</td>\n",
       "      <td>SIM</td>\n",
       "    </tr>\n",
       "    <tr>\n",
       "      <th>6</th>\n",
       "      <td>29/11/2020</td>\n",
       "      <td>09:22:42</td>\n",
       "      <td>2020</td>\n",
       "      <td>2</td>\n",
       "      <td>ELEIÇÃO ORDINÁRIA</td>\n",
       "      <td>1</td>\n",
       "      <td>426</td>\n",
       "      <td>Eleições Municipais 2020</td>\n",
       "      <td>15/11/2020</td>\n",
       "      <td>MUNICIPAL</td>\n",
       "      <td>...</td>\n",
       "      <td>ELEITO POR MÉDIA</td>\n",
       "      <td>N</td>\n",
       "      <td>S</td>\n",
       "      <td>-1</td>\n",
       "      <td>6001830520206260222</td>\n",
       "      <td>2</td>\n",
       "      <td>DEFERIDO</td>\n",
       "      <td>2</td>\n",
       "      <td>DEFERIDO</td>\n",
       "      <td>SIM</td>\n",
       "    </tr>\n",
       "  </tbody>\n",
       "</table>\n",
       "<p>5 rows × 63 columns</p>\n",
       "</div>"
      ],
      "text/plain": [
       "   DT_GERACAO HH_GERACAO  ANO_ELEICAO  CD_TIPO_ELEICAO    NM_TIPO_ELEICAO  \\\n",
       "0  29/11/2020   09:22:42         2020                2  ELEIÇÃO ORDINÁRIA   \n",
       "1  29/11/2020   09:22:42         2020                2  ELEIÇÃO ORDINÁRIA   \n",
       "3  29/11/2020   09:22:42         2020                2  ELEIÇÃO ORDINÁRIA   \n",
       "5  29/11/2020   09:22:42         2020                2  ELEIÇÃO ORDINÁRIA   \n",
       "6  29/11/2020   09:22:42         2020                2  ELEIÇÃO ORDINÁRIA   \n",
       "\n",
       "   NR_TURNO  CD_ELEICAO                DS_ELEICAO  DT_ELEICAO TP_ABRANGENCIA  \\\n",
       "0         1         426  Eleições Municipais 2020  15/11/2020      MUNICIPAL   \n",
       "1         1         426  Eleições Municipais 2020  15/11/2020      MUNICIPAL   \n",
       "3         1         426  Eleições Municipais 2020  15/11/2020      MUNICIPAL   \n",
       "5         1         426  Eleições Municipais 2020  15/11/2020      MUNICIPAL   \n",
       "6         1         426  Eleições Municipais 2020  15/11/2020      MUNICIPAL   \n",
       "\n",
       "   ...  DS_SIT_TOT_TURNO  ST_REELEICAO ST_DECLARAR_BENS  \\\n",
       "0  ...          SUPLENTE             N                S   \n",
       "1  ...          SUPLENTE             N                S   \n",
       "3  ...        NÃO ELEITO             N                S   \n",
       "5  ...        NÃO ELEITO             N                S   \n",
       "6  ...  ELEITO POR MÉDIA             N                S   \n",
       "\n",
       "   NR_PROTOCOLO_CANDIDATURA          NR_PROCESSO  \\\n",
       "0                        -1  6005729320206260317   \n",
       "1                        -1  6003059420206260229   \n",
       "3                        -1  6002685720206260200   \n",
       "5                        -1  6000404620206260212   \n",
       "6                        -1  6001830520206260222   \n",
       "\n",
       "   CD_SITUACAO_CANDIDATO_PLEITO  DS_SITUACAO_CANDIDATO_PLEITO  \\\n",
       "0                             2                      DEFERIDO   \n",
       "1                             2                      DEFERIDO   \n",
       "3                             2                      DEFERIDO   \n",
       "5                             2                      DEFERIDO   \n",
       "6                             2                      DEFERIDO   \n",
       "\n",
       "  CD_SITUACAO_CANDIDATO_URNA DS_SITUACAO_CANDIDATO_URNA  \\\n",
       "0                          2                   DEFERIDO   \n",
       "1                          2                   DEFERIDO   \n",
       "3                          2                   DEFERIDO   \n",
       "5                          2                   DEFERIDO   \n",
       "6                          2                   DEFERIDO   \n",
       "\n",
       "  ST_CANDIDATO_INSERIDO_URNA  \n",
       "0                        SIM  \n",
       "1                        SIM  \n",
       "3                        SIM  \n",
       "5                        SIM  \n",
       "6                        SIM  \n",
       "\n",
       "[5 rows x 63 columns]"
      ]
     },
     "execution_count": 230,
     "metadata": {},
     "output_type": "execute_result"
    }
   ],
   "source": [
    "vereadores_homens.head() # mostra os 5 primeiros"
   ]
  },
  {
   "cell_type": "code",
   "execution_count": 231,
   "metadata": {},
   "outputs": [
    {
     "data": {
      "text/html": [
       "<div>\n",
       "<style scoped>\n",
       "    .dataframe tbody tr th:only-of-type {\n",
       "        vertical-align: middle;\n",
       "    }\n",
       "\n",
       "    .dataframe tbody tr th {\n",
       "        vertical-align: top;\n",
       "    }\n",
       "\n",
       "    .dataframe thead th {\n",
       "        text-align: right;\n",
       "    }\n",
       "</style>\n",
       "<table border=\"1\" class=\"dataframe\">\n",
       "  <thead>\n",
       "    <tr style=\"text-align: right;\">\n",
       "      <th></th>\n",
       "      <th>DT_GERACAO</th>\n",
       "      <th>HH_GERACAO</th>\n",
       "      <th>ANO_ELEICAO</th>\n",
       "      <th>CD_TIPO_ELEICAO</th>\n",
       "      <th>NM_TIPO_ELEICAO</th>\n",
       "      <th>NR_TURNO</th>\n",
       "      <th>CD_ELEICAO</th>\n",
       "      <th>DS_ELEICAO</th>\n",
       "      <th>DT_ELEICAO</th>\n",
       "      <th>TP_ABRANGENCIA</th>\n",
       "      <th>...</th>\n",
       "      <th>DS_SIT_TOT_TURNO</th>\n",
       "      <th>ST_REELEICAO</th>\n",
       "      <th>ST_DECLARAR_BENS</th>\n",
       "      <th>NR_PROTOCOLO_CANDIDATURA</th>\n",
       "      <th>NR_PROCESSO</th>\n",
       "      <th>CD_SITUACAO_CANDIDATO_PLEITO</th>\n",
       "      <th>DS_SITUACAO_CANDIDATO_PLEITO</th>\n",
       "      <th>CD_SITUACAO_CANDIDATO_URNA</th>\n",
       "      <th>DS_SITUACAO_CANDIDATO_URNA</th>\n",
       "      <th>ST_CANDIDATO_INSERIDO_URNA</th>\n",
       "    </tr>\n",
       "  </thead>\n",
       "  <tbody>\n",
       "    <tr>\n",
       "      <th>2</th>\n",
       "      <td>29/11/2020</td>\n",
       "      <td>09:22:42</td>\n",
       "      <td>2020</td>\n",
       "      <td>2</td>\n",
       "      <td>ELEIÇÃO ORDINÁRIA</td>\n",
       "      <td>1</td>\n",
       "      <td>426</td>\n",
       "      <td>Eleições Municipais 2020</td>\n",
       "      <td>15/11/2020</td>\n",
       "      <td>MUNICIPAL</td>\n",
       "      <td>...</td>\n",
       "      <td>SUPLENTE</td>\n",
       "      <td>N</td>\n",
       "      <td>S</td>\n",
       "      <td>-1</td>\n",
       "      <td>6001781620206260114</td>\n",
       "      <td>2</td>\n",
       "      <td>DEFERIDO</td>\n",
       "      <td>2</td>\n",
       "      <td>DEFERIDO</td>\n",
       "      <td>SIM</td>\n",
       "    </tr>\n",
       "    <tr>\n",
       "      <th>4</th>\n",
       "      <td>29/11/2020</td>\n",
       "      <td>09:22:42</td>\n",
       "      <td>2020</td>\n",
       "      <td>2</td>\n",
       "      <td>ELEIÇÃO ORDINÁRIA</td>\n",
       "      <td>1</td>\n",
       "      <td>426</td>\n",
       "      <td>Eleições Municipais 2020</td>\n",
       "      <td>15/11/2020</td>\n",
       "      <td>MUNICIPAL</td>\n",
       "      <td>...</td>\n",
       "      <td>SUPLENTE</td>\n",
       "      <td>N</td>\n",
       "      <td>S</td>\n",
       "      <td>-1</td>\n",
       "      <td>6001482320206260197</td>\n",
       "      <td>2</td>\n",
       "      <td>DEFERIDO</td>\n",
       "      <td>2</td>\n",
       "      <td>DEFERIDO</td>\n",
       "      <td>SIM</td>\n",
       "    </tr>\n",
       "    <tr>\n",
       "      <th>7</th>\n",
       "      <td>29/11/2020</td>\n",
       "      <td>09:22:42</td>\n",
       "      <td>2020</td>\n",
       "      <td>2</td>\n",
       "      <td>ELEIÇÃO ORDINÁRIA</td>\n",
       "      <td>1</td>\n",
       "      <td>426</td>\n",
       "      <td>Eleições Municipais 2020</td>\n",
       "      <td>15/11/2020</td>\n",
       "      <td>MUNICIPAL</td>\n",
       "      <td>...</td>\n",
       "      <td>SUPLENTE</td>\n",
       "      <td>N</td>\n",
       "      <td>N</td>\n",
       "      <td>-1</td>\n",
       "      <td>6002075020206260281</td>\n",
       "      <td>2</td>\n",
       "      <td>DEFERIDO</td>\n",
       "      <td>2</td>\n",
       "      <td>DEFERIDO</td>\n",
       "      <td>SIM</td>\n",
       "    </tr>\n",
       "    <tr>\n",
       "      <th>13</th>\n",
       "      <td>29/11/2020</td>\n",
       "      <td>09:22:42</td>\n",
       "      <td>2020</td>\n",
       "      <td>2</td>\n",
       "      <td>ELEIÇÃO ORDINÁRIA</td>\n",
       "      <td>1</td>\n",
       "      <td>426</td>\n",
       "      <td>Eleições Municipais 2020</td>\n",
       "      <td>15/11/2020</td>\n",
       "      <td>MUNICIPAL</td>\n",
       "      <td>...</td>\n",
       "      <td>NÃO ELEITO</td>\n",
       "      <td>N</td>\n",
       "      <td>S</td>\n",
       "      <td>-1</td>\n",
       "      <td>6000628620206260121</td>\n",
       "      <td>2</td>\n",
       "      <td>DEFERIDO</td>\n",
       "      <td>2</td>\n",
       "      <td>DEFERIDO</td>\n",
       "      <td>SIM</td>\n",
       "    </tr>\n",
       "    <tr>\n",
       "      <th>14</th>\n",
       "      <td>29/11/2020</td>\n",
       "      <td>09:22:42</td>\n",
       "      <td>2020</td>\n",
       "      <td>2</td>\n",
       "      <td>ELEIÇÃO ORDINÁRIA</td>\n",
       "      <td>1</td>\n",
       "      <td>426</td>\n",
       "      <td>Eleições Municipais 2020</td>\n",
       "      <td>15/11/2020</td>\n",
       "      <td>MUNICIPAL</td>\n",
       "      <td>...</td>\n",
       "      <td>SUPLENTE</td>\n",
       "      <td>N</td>\n",
       "      <td>S</td>\n",
       "      <td>-1</td>\n",
       "      <td>6005710520206260222</td>\n",
       "      <td>2</td>\n",
       "      <td>DEFERIDO</td>\n",
       "      <td>2</td>\n",
       "      <td>DEFERIDO</td>\n",
       "      <td>SIM</td>\n",
       "    </tr>\n",
       "  </tbody>\n",
       "</table>\n",
       "<p>5 rows × 63 columns</p>\n",
       "</div>"
      ],
      "text/plain": [
       "    DT_GERACAO HH_GERACAO  ANO_ELEICAO  CD_TIPO_ELEICAO    NM_TIPO_ELEICAO  \\\n",
       "2   29/11/2020   09:22:42         2020                2  ELEIÇÃO ORDINÁRIA   \n",
       "4   29/11/2020   09:22:42         2020                2  ELEIÇÃO ORDINÁRIA   \n",
       "7   29/11/2020   09:22:42         2020                2  ELEIÇÃO ORDINÁRIA   \n",
       "13  29/11/2020   09:22:42         2020                2  ELEIÇÃO ORDINÁRIA   \n",
       "14  29/11/2020   09:22:42         2020                2  ELEIÇÃO ORDINÁRIA   \n",
       "\n",
       "    NR_TURNO  CD_ELEICAO                DS_ELEICAO  DT_ELEICAO TP_ABRANGENCIA  \\\n",
       "2          1         426  Eleições Municipais 2020  15/11/2020      MUNICIPAL   \n",
       "4          1         426  Eleições Municipais 2020  15/11/2020      MUNICIPAL   \n",
       "7          1         426  Eleições Municipais 2020  15/11/2020      MUNICIPAL   \n",
       "13         1         426  Eleições Municipais 2020  15/11/2020      MUNICIPAL   \n",
       "14         1         426  Eleições Municipais 2020  15/11/2020      MUNICIPAL   \n",
       "\n",
       "    ... DS_SIT_TOT_TURNO  ST_REELEICAO ST_DECLARAR_BENS  \\\n",
       "2   ...         SUPLENTE             N                S   \n",
       "4   ...         SUPLENTE             N                S   \n",
       "7   ...         SUPLENTE             N                N   \n",
       "13  ...       NÃO ELEITO             N                S   \n",
       "14  ...         SUPLENTE             N                S   \n",
       "\n",
       "    NR_PROTOCOLO_CANDIDATURA          NR_PROCESSO  \\\n",
       "2                         -1  6001781620206260114   \n",
       "4                         -1  6001482320206260197   \n",
       "7                         -1  6002075020206260281   \n",
       "13                        -1  6000628620206260121   \n",
       "14                        -1  6005710520206260222   \n",
       "\n",
       "    CD_SITUACAO_CANDIDATO_PLEITO  DS_SITUACAO_CANDIDATO_PLEITO  \\\n",
       "2                              2                      DEFERIDO   \n",
       "4                              2                      DEFERIDO   \n",
       "7                              2                      DEFERIDO   \n",
       "13                             2                      DEFERIDO   \n",
       "14                             2                      DEFERIDO   \n",
       "\n",
       "   CD_SITUACAO_CANDIDATO_URNA DS_SITUACAO_CANDIDATO_URNA  \\\n",
       "2                           2                   DEFERIDO   \n",
       "4                           2                   DEFERIDO   \n",
       "7                           2                   DEFERIDO   \n",
       "13                          2                   DEFERIDO   \n",
       "14                          2                   DEFERIDO   \n",
       "\n",
       "   ST_CANDIDATO_INSERIDO_URNA  \n",
       "2                         SIM  \n",
       "4                         SIM  \n",
       "7                         SIM  \n",
       "13                        SIM  \n",
       "14                        SIM  \n",
       "\n",
       "[5 rows x 63 columns]"
      ]
     },
     "execution_count": 231,
     "metadata": {},
     "output_type": "execute_result"
    }
   ],
   "source": [
    "vereadoras_mulheres.head() # mostra os 5 primeiros"
   ]
  },
  {
   "cell_type": "code",
   "execution_count": 232,
   "metadata": {},
   "outputs": [
    {
     "data": {
      "text/plain": [
       "9825"
      ]
     },
     "execution_count": 232,
     "metadata": {},
     "output_type": "execute_result"
    }
   ],
   "source": [
    "mulher_ensino_superior = len(vereadoras_mulheres.query('DS_GRAU_INSTRUCAO == \"SUPERIOR COMPLETO\"').index)\n",
    "mulher_ensino_superior"
   ]
  },
  {
   "cell_type": "code",
   "execution_count": 233,
   "metadata": {},
   "outputs": [
    {
     "data": {
      "text/plain": [
       "16625"
      ]
     },
     "execution_count": 233,
     "metadata": {},
     "output_type": "execute_result"
    }
   ],
   "source": [
    "homem_ensino_superior = len(vereadores_homens.query('DS_GRAU_INSTRUCAO == \"SUPERIOR COMPLETO\"').index)\n",
    "homem_ensino_superior"
   ]
  },
  {
   "cell_type": "code",
   "execution_count": 234,
   "metadata": {},
   "outputs": [
    {
     "data": {
      "text/plain": [
       "26450"
      ]
     },
     "execution_count": 234,
     "metadata": {},
     "output_type": "execute_result"
    }
   ],
   "source": [
    "total_ensino_superior = mulher_ensino_superior + homem_ensino_superior\n",
    "total_ensino_superior"
   ]
  },
  {
   "cell_type": "code",
   "execution_count": 235,
   "metadata": {},
   "outputs": [
    {
     "data": {
      "text/plain": [
       "37.14555765595463"
      ]
     },
     "execution_count": 235,
     "metadata": {},
     "output_type": "execute_result"
    }
   ],
   "source": [
    "porcM_escolaridade = mulher_ensino_superior*100/total_ensino_superior\n",
    "porcM_escolaridade"
   ]
  },
  {
   "cell_type": "code",
   "execution_count": 236,
   "metadata": {},
   "outputs": [
    {
     "data": {
      "text/plain": [
       "62.85444234404537"
      ]
     },
     "execution_count": 236,
     "metadata": {},
     "output_type": "execute_result"
    }
   ],
   "source": [
    "porcH_escolaridade = homem_ensino_superior*100/total_ensino_superior\n",
    "porcH_escolaridade"
   ]
  },
  {
   "cell_type": "code",
   "execution_count": 237,
   "metadata": {},
   "outputs": [
    {
     "data": {
      "image/png": "[encoded data removed]",
      "text/plain": [
       "<Figure size 432x432 with 1 Axes>"
      ]
     },
     "metadata": {},
     "output_type": "display_data"
    }
   ],
   "source": [
    "generos = 'Feminino', 'Masculino'\n",
    "quantidade = [porcM_escolaridade, porcH_escolaridade]\n",
    "\n",
    "explode = (0.1, 0)\n",
    "figl, ax1 = plt.subplots(figsize=(6, 6))\n",
    "\n",
    "c = [ '#944186','#07EBD4' ]\n",
    "\n",
    "ax1.pie(quantidade, labels=generos,explode=explode, autopct='%1.1f%%',\n",
    "       shadow=True, startangle=90, colors=c)\n",
    "\n",
    "ax1.axis('equal')\n",
    "plt.show()\n"
   ]
  },
  {
   "cell_type": "markdown",
   "metadata": {},
   "source": [
    "- Aqui podemos observar que percentualmente entre os candidatos a vereadores de 2020 as mulheres possuem mais ensino superior que os homens. \n",
    "- No primeiro gráfico, onde só mostrava a quantidade de candidatos entre os gêneros vimos que **33% eram mulheres e 66% eram homens**, e agora, no novo gráfico, onde mostra apenas a parte de candidatos que possuem ensino superior, percebemos que as **mulheres subiram no percentual em 5%,  em relação ao homens**. Isso levando em consideração que a soma não é com o percentual total de cada gênero e sim o percentual juntando a soma dos dois. Abaixo mostrarei como percentualmente essa diferença é mais gritante."
   ]
  },
  {
   "cell_type": "code",
   "execution_count": 97,
   "metadata": {},
   "outputs": [
    {
     "data": {
      "text/plain": [
       "dict_keys(['ANALFABETO', 'ENSINO FUNDAMENTAL COMPLETO', 'ENSINO FUNDAMENTAL INCOMPLETO', 'ENSINO MÉDIO COMPLETO', 'ENSINO MÉDIO INCOMPLETO', 'LÊ E ESCREVE', 'SUPERIOR COMPLETO', 'SUPERIOR INCOMPLETO'])"
      ]
     },
     "execution_count": 97,
     "metadata": {},
     "output_type": "execute_result"
    }
   ],
   "source": [
    "vereadoras_mulheres.groupby('DS_GRAU_INSTRUCAO').groups.keys()"
   ]
  },
  {
   "cell_type": "code",
   "execution_count": 103,
   "metadata": {},
   "outputs": [
    {
     "data": {
      "text/plain": [
       "<AxesSubplot:xlabel='DS_GRAU_INSTRUCAO'>"
      ]
     },
     "execution_count": 103,
     "metadata": {},
     "output_type": "execute_result"
    },
    {
     "data": {
      "image/png": "[encoded data removed]",
      "text/plain": [
       "<Figure size 432x288 with 1 Axes>"
      ]
     },
     "metadata": {
      "needs_background": "light"
     },
     "output_type": "display_data"
    }
   ],
   "source": [
    "vereadoras_mulheres.groupby('DS_GRAU_INSTRUCAO')['DS_GRAU_INSTRUCAO'].agg(['count']).plot(kind='bar', color='#944186')"
   ]
  },
  {
   "cell_type": "code",
   "execution_count": 104,
   "metadata": {},
   "outputs": [
    {
     "data": {
      "text/plain": [
       "dict_keys(['ENSINO FUNDAMENTAL COMPLETO', 'ENSINO FUNDAMENTAL INCOMPLETO', 'ENSINO MÉDIO COMPLETO', 'ENSINO MÉDIO INCOMPLETO', 'LÊ E ESCREVE', 'SUPERIOR COMPLETO', 'SUPERIOR INCOMPLETO'])"
      ]
     },
     "execution_count": 104,
     "metadata": {},
     "output_type": "execute_result"
    }
   ],
   "source": [
    "vereadores_homens.groupby('DS_GRAU_INSTRUCAO').groups.keys()"
   ]
  },
  {
   "cell_type": "code",
   "execution_count": 105,
   "metadata": {},
   "outputs": [
    {
     "data": {
      "text/plain": [
       "<AxesSubplot:xlabel='DS_GRAU_INSTRUCAO'>"
      ]
     },
     "execution_count": 105,
     "metadata": {},
     "output_type": "execute_result"
    },
    {
     "data": {
      "image/png": "[encoded data removed]",
      "text/plain": [
       "<Figure size 432x288 with 1 Axes>"
      ]
     },
     "metadata": {
      "needs_background": "light"
     },
     "output_type": "display_data"
    }
   ],
   "source": [
    "vereadores_homens.groupby('DS_GRAU_INSTRUCAO')['DS_GRAU_INSTRUCAO'].agg(['count']).plot(kind='bar', color='#07EBD4')"
   ]
  },
  {
   "cell_type": "markdown",
   "metadata": {},
   "source": [
    "- Nos dois graficos acima, podemos observar o grau de escolariadade dos candidatos a vereadores no ano de 2020. O gráfico com barras roxas é refente as mulhres, e o gráfico com barras azuis é refente aos homens."
   ]
  },
  {
   "cell_type": "code",
   "execution_count": 238,
   "metadata": {},
   "outputs": [
    {
     "data": {
      "text/html": [
       "<div>\n",
       "<style scoped>\n",
       "    .dataframe tbody tr th:only-of-type {\n",
       "        vertical-align: middle;\n",
       "    }\n",
       "\n",
       "    .dataframe tbody tr th {\n",
       "        vertical-align: top;\n",
       "    }\n",
       "\n",
       "    .dataframe thead th {\n",
       "        text-align: right;\n",
       "    }\n",
       "</style>\n",
       "<table border=\"1\" class=\"dataframe\">\n",
       "  <thead>\n",
       "    <tr style=\"text-align: right;\">\n",
       "      <th></th>\n",
       "      <th>count</th>\n",
       "      <th>porcentagem</th>\n",
       "    </tr>\n",
       "    <tr>\n",
       "      <th>DS_GRAU_INSTRUCAO</th>\n",
       "      <th></th>\n",
       "      <th></th>\n",
       "    </tr>\n",
       "  </thead>\n",
       "  <tbody>\n",
       "    <tr>\n",
       "      <th>ENSINO FUNDAMENTAL COMPLETO</th>\n",
       "      <td>7822</td>\n",
       "      <td>12.553967</td>\n",
       "    </tr>\n",
       "    <tr>\n",
       "      <th>ENSINO FUNDAMENTAL INCOMPLETO</th>\n",
       "      <td>5796</td>\n",
       "      <td>9.302326</td>\n",
       "    </tr>\n",
       "    <tr>\n",
       "      <th>ENSINO MÉDIO COMPLETO</th>\n",
       "      <td>24782</td>\n",
       "      <td>39.774022</td>\n",
       "    </tr>\n",
       "    <tr>\n",
       "      <th>ENSINO MÉDIO INCOMPLETO</th>\n",
       "      <td>2761</td>\n",
       "      <td>4.431284</td>\n",
       "    </tr>\n",
       "    <tr>\n",
       "      <th>LÊ E ESCREVE</th>\n",
       "      <td>1535</td>\n",
       "      <td>2.463608</td>\n",
       "    </tr>\n",
       "    <tr>\n",
       "      <th>SUPERIOR COMPLETO</th>\n",
       "      <td>16625</td>\n",
       "      <td>26.682395</td>\n",
       "    </tr>\n",
       "    <tr>\n",
       "      <th>SUPERIOR INCOMPLETO</th>\n",
       "      <td>2986</td>\n",
       "      <td>4.792399</td>\n",
       "    </tr>\n",
       "  </tbody>\n",
       "</table>\n",
       "</div>"
      ],
      "text/plain": [
       "                               count  porcentagem\n",
       "DS_GRAU_INSTRUCAO                                \n",
       "ENSINO FUNDAMENTAL COMPLETO     7822    12.553967\n",
       "ENSINO FUNDAMENTAL INCOMPLETO   5796     9.302326\n",
       "ENSINO MÉDIO COMPLETO          24782    39.774022\n",
       "ENSINO MÉDIO INCOMPLETO         2761     4.431284\n",
       "LÊ E ESCREVE                    1535     2.463608\n",
       "SUPERIOR COMPLETO              16625    26.682395\n",
       "SUPERIOR INCOMPLETO             2986     4.792399"
      ]
     },
     "execution_count": 238,
     "metadata": {},
     "output_type": "execute_result"
    }
   ],
   "source": [
    "dfH_grau_instrucao = vereadores_homens.groupby('DS_GRAU_INSTRUCAO')['DS_GRAU_INSTRUCAO'].agg(['count'])\n",
    "dfH_grau_instrucao ['porcentagem'] = dfH_grau_instrucao.apply(lambda linha : linha*100/quantidadeDeHomens)\n",
    "dfH_grau_instrucao"
   ]
  },
  {
   "cell_type": "markdown",
   "metadata": {},
   "source": [
    "- Na tabela acima, é exibido a porcentagem referente à quantidade de homens para cada grau de instrução."
   ]
  },
  {
   "cell_type": "code",
   "execution_count": 239,
   "metadata": {},
   "outputs": [
    {
     "data": {
      "text/html": [
       "<div>\n",
       "<style scoped>\n",
       "    .dataframe tbody tr th:only-of-type {\n",
       "        vertical-align: middle;\n",
       "    }\n",
       "\n",
       "    .dataframe tbody tr th {\n",
       "        vertical-align: top;\n",
       "    }\n",
       "\n",
       "    .dataframe thead th {\n",
       "        text-align: right;\n",
       "    }\n",
       "</style>\n",
       "<table border=\"1\" class=\"dataframe\">\n",
       "  <thead>\n",
       "    <tr style=\"text-align: right;\">\n",
       "      <th></th>\n",
       "      <th>count</th>\n",
       "      <th>porcentagem</th>\n",
       "    </tr>\n",
       "    <tr>\n",
       "      <th>DS_GRAU_INSTRUCAO</th>\n",
       "      <th></th>\n",
       "      <th></th>\n",
       "    </tr>\n",
       "  </thead>\n",
       "  <tbody>\n",
       "    <tr>\n",
       "      <th>ANALFABETO</th>\n",
       "      <td>1</td>\n",
       "      <td>0.003179</td>\n",
       "    </tr>\n",
       "    <tr>\n",
       "      <th>ENSINO FUNDAMENTAL COMPLETO</th>\n",
       "      <td>3276</td>\n",
       "      <td>10.413223</td>\n",
       "    </tr>\n",
       "    <tr>\n",
       "      <th>ENSINO FUNDAMENTAL INCOMPLETO</th>\n",
       "      <td>2375</td>\n",
       "      <td>7.549269</td>\n",
       "    </tr>\n",
       "    <tr>\n",
       "      <th>ENSINO MÉDIO COMPLETO</th>\n",
       "      <td>12178</td>\n",
       "      <td>38.709472</td>\n",
       "    </tr>\n",
       "    <tr>\n",
       "      <th>ENSINO MÉDIO INCOMPLETO</th>\n",
       "      <td>1379</td>\n",
       "      <td>4.383344</td>\n",
       "    </tr>\n",
       "    <tr>\n",
       "      <th>LÊ E ESCREVE</th>\n",
       "      <td>782</td>\n",
       "      <td>2.485696</td>\n",
       "    </tr>\n",
       "    <tr>\n",
       "      <th>SUPERIOR COMPLETO</th>\n",
       "      <td>9825</td>\n",
       "      <td>31.230134</td>\n",
       "    </tr>\n",
       "    <tr>\n",
       "      <th>SUPERIOR INCOMPLETO</th>\n",
       "      <td>1644</td>\n",
       "      <td>5.225683</td>\n",
       "    </tr>\n",
       "  </tbody>\n",
       "</table>\n",
       "</div>"
      ],
      "text/plain": [
       "                               count  porcentagem\n",
       "DS_GRAU_INSTRUCAO                                \n",
       "ANALFABETO                         1     0.003179\n",
       "ENSINO FUNDAMENTAL COMPLETO     3276    10.413223\n",
       "ENSINO FUNDAMENTAL INCOMPLETO   2375     7.549269\n",
       "ENSINO MÉDIO COMPLETO          12178    38.709472\n",
       "ENSINO MÉDIO INCOMPLETO         1379     4.383344\n",
       "LÊ E ESCREVE                     782     2.485696\n",
       "SUPERIOR COMPLETO               9825    31.230134\n",
       "SUPERIOR INCOMPLETO             1644     5.225683"
      ]
     },
     "execution_count": 239,
     "metadata": {},
     "output_type": "execute_result"
    }
   ],
   "source": [
    "dfM_grau_instrucao = vereadoras_mulheres.groupby('DS_GRAU_INSTRUCAO')['DS_GRAU_INSTRUCAO'].agg(['count'])\n",
    "dfM_grau_instrucao['porcentagem'] = dfM_grau_instrucao.apply(lambda linha : linha*100/quantidadeDeMulheres)\n",
    "dfM_grau_instrucao"
   ]
  },
  {
   "cell_type": "markdown",
   "metadata": {},
   "source": [
    "- Na tabela acima, é exibido a porcentagem referente à quantidade de mulheres para cada grau de instrução.\n"
   ]
  },
  {
   "cell_type": "code",
   "execution_count": 203,
   "metadata": {},
   "outputs": [
    {
     "data": {
      "image/png": "[encoded data removed]",
      "text/plain": [
       "<Figure size 1080x504 with 1 Axes>"
      ]
     },
     "metadata": {
      "needs_background": "light"
     },
     "output_type": "display_data"
    }
   ],
   "source": [
    "analfabeto = [0.003, 0]\n",
    "ensino_fundamental_completo = [10.413, 12.554]\n",
    "ensino_fundamental_incompleto = [7.549, 9.302]\n",
    "ensino_medio_completo = [38.709, 39.774]\n",
    "ensino_medio_incompleto = [4.383, 4.431]\n",
    "le_escreve = [2.485, 2.463]\n",
    "superior_completo = [31.230, 26.682]\n",
    "superior_incompleto = [5.225, 4.792]\n",
    "\n",
    "barWidth = 0.10\n",
    "plt.figure(figsize=(15, 7))\n",
    "\n",
    "r1 = np.arange(len(analfabeto))\n",
    "r2 = [x + barWidth for x in r1]\n",
    "r3 = [x + barWidth for x in r2]\n",
    "r4 = [x + barWidth for x in r3]\n",
    "r5 = [x + barWidth for x in r4]\n",
    "r6 = [x + barWidth for x in r5]\n",
    "r7 = [x + barWidth for x in r6]\n",
    "r8 = [x + barWidth for x in r7]\n",
    "r9 = [x + barWidth for x in r8]\n",
    "\n",
    "plt.bar(r1, analfabeto, color='#fff385', width = barWidth, label = 'Analfabeto')\n",
    "plt.bar(r2, ensino_fundamental_completo, color = '#4C1A57', width=barWidth, label= 'Ensino fundamental completo')\n",
    "plt.bar(r3, ensino_fundamental_incompleto, color ='#FF3CC7', width=barWidth, label= 'Ensino fundamental incompleto')\n",
    "plt.bar(r4, ensino_medio_completo, color ='#F0F600', width=barWidth, label= 'Ensino médio completo')\n",
    "plt.bar(r5, ensino_medio_incompleto, color ='#00E5E8', width=barWidth, label= 'Ensino médio incompleto')\n",
    "plt.bar(r6, le_escreve, color='#B10F2E', width=barWidth, label= 'Lê e escreve')\n",
    "plt.bar(r7, superior_completo, color='#f59e11', width=barWidth, label= 'Superior completo')\n",
    "plt.bar(r8, superior_incompleto, color='#45e342', width=barWidth, label= 'Superior incompleto')\n",
    "\n",
    "plt.xlabel('Notas')\n",
    "plt.xticks([r + barWidth for r in range(len(analfabeto))], ['Mulheres', 'Homens'])\n",
    "plt.ylabel('Valores')\n",
    "plt.title('Comparação do o grau de escolaridade dos candidatos a vereadores no ano de 2020')\n",
    "\n",
    "plt.legend()\n",
    "plt.show()"
   ]
  },
  {
   "cell_type": "markdown",
   "metadata": {},
   "source": [
    "\n",
    "- Olhando o gráfico acima, a barra em amarelo claro referente aos candidatos **analfabetos**, ficou praticamente invisível, pois só tinha uma candidata mulher nesta categoria.\n",
    "- As barras nas cores roxa e rosa, referente aos candidos com **ensino fundamental completo e ensino fundamental incompleto**, respectivamente, é possível notar mais homens nestas duas categorias\n",
    "- A barra na cor amarela é referente ao **ensino médio completo**, onde há um percentual maior para os homens, porém não há uma grande diference de homens para mulheres.\n",
    "- A barra na cor azul é sobre a categoria \"**ensino médio incompleto**\" e a barra na cor vermelha é referente aos candidatos da categoria \"**lê e escreve**\", percentualmente essas categorias são quase iguais entre a comparação dos gêneros.\n",
    "- A barra laranja, referente ao **ensino superior completo**, exibe uma vantagem nítida às mulheres, e na barra verde referente ao **ensino superior incompleto**, as mulheres também estão na frente, apesar da diferença ser pequena.\n",
    "> Analisando o grafico, da para dizer, percentualmente, que **há mais candidatas mulheres estudadas do que homens**, inicialmente nas primeiras barras não se tem uma grande diferença, porém **essa diferença se torna mais predominante na parte do ensino superior completo**."
   ]
  },
  {
   "cell_type": "code",
   "execution_count": null,
   "metadata": {},
   "outputs": [],
   "source": []
  }
 ],
 "metadata": {
  "kernelspec": {
   "display_name": "Python 3",
   "language": "python",
   "name": "python3"
  },
  "language_info": {
   "codemirror_mode": {
    "name": "ipython",
    "version": 3
   },
   "file_extension": ".py",
   "mimetype": "text/x-python",
   "name": "python",
   "nbconvert_exporter": "python",
   "pygments_lexer": "ipython3",
   "version": "3.6.2"
  }
 },
 "nbformat": 4,
 "nbformat_minor": 4
}
